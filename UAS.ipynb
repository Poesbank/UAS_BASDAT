{
 "cells": [
  {
   "cell_type": "code",
   "execution_count": 2,
   "metadata": {},
   "outputs": [],
   "source": [
    "import mysql.connector"
   ]
  },
  {
   "cell_type": "code",
   "execution_count": 3,
   "metadata": {},
   "outputs": [],
   "source": [
    "db = mysql.connector.connect(host=\"localhost\", user=\"root\", passwd=\"pusbangdisini26\")"
   ]
  },
  {
   "cell_type": "code",
   "execution_count": 4,
   "metadata": {},
   "outputs": [
    {
     "name": "stdout",
     "output_type": "stream",
     "text": [
      "Connected\n"
     ]
    }
   ],
   "source": [
    "if db.is_connected():\n",
    "    print(\"Connected\")"
   ]
  },
  {
   "cell_type": "code",
   "execution_count": 5,
   "metadata": {},
   "outputs": [],
   "source": [
    "cursor = db.cursor(buffered=True)"
   ]
  },
  {
   "cell_type": "code",
   "execution_count": 6,
   "metadata": {},
   "outputs": [],
   "source": [
    "db_uas = mysql.connector.connect(host=\"localhost\", user=\"root\", passwd=\"pusbangdisini26\", database=\"uas_basdat\")"
   ]
  },
  {
   "cell_type": "code",
   "execution_count": 11,
   "metadata": {},
   "outputs": [
    {
     "name": "stdout",
     "output_type": "stream",
     "text": [
      "Table customer sudah jadi\n"
     ]
    }
   ],
   "source": [
    "cursor= db_uas.cursor(buffered=True)\n",
    "sql = \"\"\"CREATE TABLE Data_Logistik (Logistic_id INT AUTO_INCREMENT PRIMARY KEY, Tanggal_Pengiriman DATE, Jenis_Pengiriman VARCHAR(50), Status VARCHAR (25), Jalur_Pengiriman VARCHAR(25), Jenis_Barang VARCHAR (25), Asal_Pengiriman VARCHAR(50), Tujuan_Pengiriman VARCHAR(50))\"\"\"\n",
    "cursor.execute(sql)\n",
    "print(\"Table customer sudah jadi\")"
   ]
  },
  {
   "cell_type": "code",
   "execution_count": 15,
   "metadata": {},
   "outputs": [
    {
     "name": "stdout",
     "output_type": "stream",
     "text": [
      "1 data berhasil dimasukkan\n"
     ]
    }
   ],
   "source": [
    "sql = \"INSERT INTO Data_Logistik (Tanggal_Pengiriman, Jenis_Pengiriman, Status, Jalur_Pengiriman, Jenis_Barang, Asal_Pengiriman, Tujuan_Pengiriman) VALUES (%s, %s, %s, %s, %s, %s, %s)\"\n",
    "val = (\"2022-06-09\", \"Kilat\", \"Kirim\", \"Darat\", \"Kertas\", \"Bandung\", \"Jakarta\")\n",
    "\n",
    "cursor.execute(sql, val)\n",
    "\n",
    "db_uas.commit()\n",
    "\n",
    "print(\"{} data berhasil dimasukkan\".format(cursor.rowcount))"
   ]
  },
  {
   "cell_type": "code",
   "execution_count": 16,
   "metadata": {},
   "outputs": [
    {
     "name": "stdout",
     "output_type": "stream",
     "text": [
      "3 data berhasil dimasukkan\n"
     ]
    }
   ],
   "source": [
    "sql = \"INSERT INTO Data_Logistik (Tanggal_Pengiriman, Jenis_Pengiriman, Status, Jalur_Pengiriman, Jenis_Barang, Asal_Pengiriman, Tujuan_Pengiriman) VALUES (%s, %s, %s, %s, %s, %s, %s)\"\n",
    "\n",
    "values = [(\"2022-06-09\", \"Reguler\", \"Kirim\", \"Darat\", \"Pensil\", \"Bandung\", \"Jakarta\"), (\"2022-06-09\", \"Kilat\", \"Belum Kirim\", \"Darat\", \"Buku\", \"Purwakarta\", \"Jakarta\"), (\"2022-06-09\", \"Reguler\", \"Belum Kirim\", \"Darat\", \"Laptop\", \"Purwakarta\", \"Jakarta\")]\n",
    "\n",
    "for val in values:\n",
    "    cursor.execute(sql, val)\n",
    "    db_uas.commit()\n",
    "\n",
    "print(\"{} data berhasil dimasukkan\".format(len(values)))"
   ]
  }
 ],
 "metadata": {
  "interpreter": {
   "hash": "727844bbe025e92c5113cb78c28af48883e4be5c2e59d77179c48f6f1c0009e1"
  },
  "kernelspec": {
   "display_name": "Python 3.9.12 64-bit",
   "language": "python",
   "name": "python3"
  },
  "language_info": {
   "codemirror_mode": {
    "name": "ipython",
    "version": 3
   },
   "file_extension": ".py",
   "mimetype": "text/x-python",
   "name": "python",
   "nbconvert_exporter": "python",
   "pygments_lexer": "ipython3",
   "version": "3.9.12"
  },
  "orig_nbformat": 4
 },
 "nbformat": 4,
 "nbformat_minor": 2
}
